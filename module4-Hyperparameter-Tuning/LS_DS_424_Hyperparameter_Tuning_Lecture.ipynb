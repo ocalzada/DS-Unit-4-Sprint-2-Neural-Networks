{
 "cells": [
  {
   "cell_type": "markdown",
   "metadata": {
    "colab_type": "text",
    "id": "41TS0Sa0rDNx"
   },
   "source": [
    "Lambda School Data Science\n",
    "\n",
    "*Unit 4, Sprint 2, Module 4*\n",
    "\n",
    "---"
   ]
  },
  {
   "cell_type": "markdown",
   "metadata": {
    "colab_type": "text",
    "id": "41TS0Sa0rDNx"
   },
   "source": [
    "# Neural Networks & GPUs (Prepare)\n",
    "*aka Hyperparameter Tuning*\n",
    "\n",
    "*aka Big Servers for Big Problems*"
   ]
  },
  {
   "cell_type": "markdown",
   "metadata": {
    "colab_type": "text",
    "id": "41TS0Sa0rDNx"
   },
   "source": [
    "## Learning Objectives\n",
    "* <a href=\"#p1\">Part 1</a>: Describe the major hyperparemeters to tune\n",
    "* <a href=\"#p2\">Part 2</a>: Implement an experiment tracking framework\n",
    "* <a href=\"#p3\">Part 3</a>: Search the hyperparameter space using RandomSearch (Optional)"
   ]
  },
  {
   "cell_type": "markdown",
   "metadata": {},
   "source": [
    "# Hyperparameter Options (Learn)\n",
    "<a id=\"p1\"></a>"
   ]
  },
  {
   "cell_type": "markdown",
   "metadata": {},
   "source": [
    "## Overview\n",
    "\n",
    "Hyperparameter tuning is much more important with neural networks than it has been with any other models that we have considered up to this point. Other supervised learning models might have a couple of parameters, but neural networks can have dozens. These can substantially affect the accuracy of our models and although it can be a time consuming process is a necessary step when working with neural networks.\n",
    "​\n",
    "Hyperparameter tuning comes with a challenge. How can we compare models specified with different hyperparameters if our model's final error metric can vary somewhat erratically? How do we avoid just getting unlucky and selecting the wrong hyperparameter? This is a problem that to a certain degree we just have to live with as we test and test again. However, we can minimize it somewhat by pairing our experiments with Cross Validation to reduce the variance of our final accuracy values."
   ]
  },
  {
   "cell_type": "markdown",
   "metadata": {
    "colab_type": "text",
    "id": "0s0o2pqBs88q"
   },
   "source": [
    "### Load Boston Housing Data"
   ]
  },
  {
   "cell_type": "code",
   "execution_count": 1,
   "metadata": {},
   "outputs": [],
   "source": [
    "from tensorflow.keras.datasets import boston_housing\n",
    "\n",
    "(x_train, y_train), (x_test, y_test) = boston_housing.load_data()"
   ]
  },
  {
   "cell_type": "markdown",
   "metadata": {
    "colab_type": "text",
    "id": "Pm7zow5IvaTt"
   },
   "source": [
    "### Normalizing Input Data\n",
    "\n",
    "It's not 100% necessary to normalize/scale your input data before feeding it to a neural network, the network can learn the appropriate weights to deal with data of as long as it is numerically represented,  but it is recommended as it can help **make training faster** and **reduces the chances that gradient descent might get stuck in a local optimum**.\n",
    "\n",
    "<https://stackoverflow.com/questions/4674623/why-do-we-have-to-normalize-the-input-for-an-artificial-neural-network>"
   ]
  },
  {
   "cell_type": "code",
   "execution_count": 2,
   "metadata": {
    "colab": {
     "base_uri": "https://localhost:8080/",
     "height": 235
    },
    "colab_type": "code",
    "id": "q5qDpUj9vZVw",
    "outputId": "ce27017a-b173-455d-954e-d462e17e66f4"
   },
   "outputs": [
    {
     "name": "stdout",
     "output_type": "stream",
     "text": [
      "[[-0.27224633 -0.48361547 -0.43576161 -0.25683275 -0.1652266  -0.1764426\n",
      "   0.81306188  0.1166983  -0.62624905 -0.59517003  1.14850044  0.44807713\n",
      "   0.8252202 ]\n",
      " [-0.40342651  2.99178419 -1.33391162 -0.25683275 -1.21518188  1.89434613\n",
      "  -1.91036058  1.24758524 -0.85646254 -0.34843254 -1.71818909  0.43190599\n",
      "  -1.32920239]\n",
      " [ 0.1249402  -0.48361547  1.0283258  -0.25683275  0.62864202 -1.82968811\n",
      "   1.11048828 -1.18743907  1.67588577  1.5652875   0.78447637  0.22061726\n",
      "  -1.30850006]\n",
      " [-0.40149354 -0.48361547 -0.86940196 -0.25683275 -0.3615597  -0.3245576\n",
      "  -1.23667187  1.10717989 -0.51114231 -1.094663    0.78447637  0.44807713\n",
      "  -0.65292624]\n",
      " [-0.0056343  -0.48361547  1.0283258  -0.25683275  1.32861221  0.15364225\n",
      "   0.69480801 -0.57857203  1.67588577  1.5652875   0.78447637  0.3898823\n",
      "   0.26349695]\n",
      " [-0.37502238 -0.48361547 -0.54747912 -0.25683275 -0.54935658 -0.78865126\n",
      "   0.18954148  0.48371503 -0.51114231 -0.71552978  0.51145832  0.38669063\n",
      "  -0.13812828]\n",
      " [ 0.58963463 -0.48361547  1.0283258  -0.25683275  1.21764133 -1.03127774\n",
      "   1.11048828 -1.06518235  1.67588577  1.5652875   0.78447637  0.44807713\n",
      "   1.49873604]\n",
      " [ 0.0381708  -0.48361547  1.24588095 -0.25683275  2.67733525 -1.12719983\n",
      "   1.11048828 -1.14833073 -0.51114231 -0.01744323 -1.71818909  0.44807713\n",
      "   1.88793986]\n",
      " [-0.17228416 -0.48361547  1.24588095 -0.25683275  2.67733525 -0.90150078\n",
      "   1.11048828 -1.09664657 -0.51114231 -0.01744323 -1.71818909 -1.97365769\n",
      "   0.53952803]\n",
      " [-0.22932104 -0.48361547  1.58544339 -0.25683275  0.56888847 -1.76056777\n",
      "   1.11048828 -1.13471925 -0.62624905  0.18716835  1.23950646  0.44807713\n",
      "   2.99068404]]\n"
     ]
    }
   ],
   "source": [
    "from sklearn.preprocessing import StandardScaler\n",
    "\n",
    "# Scale input data\n",
    "scaler = StandardScaler()\n",
    "\n",
    "x_train = scaler.fit_transform(x_train)\n",
    "x_test = scaler.transform(x_test)\n",
    "print(x_train[:10])"
   ]
  },
  {
   "cell_type": "markdown",
   "metadata": {
    "colab_type": "text",
    "id": "l6hgCWbir90R"
   },
   "source": [
    "### Model Validation using an automatic verification Dataset\n",
    "\n",
    "Instead of doing seperate train test split class, Keras has a really nice feature that you can set the validation.data argument when fitting your model and Keras will take that portion of your test data and use it as a validation dataset. "
   ]
  },
  {
   "cell_type": "code",
   "execution_count": 3,
   "metadata": {
    "colab": {
     "base_uri": "https://localhost:8080/",
     "height": 1750
    },
    "colab_type": "code",
    "id": "GMXVfmzXp1Oo",
    "outputId": "b05e251e-508f-46e6-865b-f869ae2a5dc4"
   },
   "outputs": [
    {
     "name": "stdout",
     "output_type": "stream",
     "text": [
      "Train on 404 samples, validate on 102 samples\n",
      "Epoch 1/75\n",
      "404/404 [==============================] - 1s 3ms/sample - loss: 515.2334 - mse: 515.2333 - mae: 20.6325 - val_loss: 437.3017 - val_mse: 437.3017 - val_mae: 18.6839\n",
      "Epoch 2/75\n",
      "404/404 [==============================] - 0s 223us/sample - loss: 273.5330 - mse: 273.5330 - mae: 13.6160 - val_loss: 134.3315 - val_mse: 134.3315 - val_mae: 9.5749\n",
      "Epoch 3/75\n",
      "404/404 [==============================] - 0s 231us/sample - loss: 77.2441 - mse: 77.2441 - mae: 6.6099 - val_loss: 53.2456 - val_mse: 53.2456 - val_mae: 5.5439\n",
      "Epoch 4/75\n",
      "404/404 [==============================] - 0s 216us/sample - loss: 36.9611 - mse: 36.9611 - mae: 4.4770 - val_loss: 31.8715 - val_mse: 31.8715 - val_mae: 4.4196\n",
      "Epoch 5/75\n",
      "404/404 [==============================] - 0s 224us/sample - loss: 24.2132 - mse: 24.2132 - mae: 3.5983 - val_loss: 25.0459 - val_mse: 25.0459 - val_mae: 4.0000\n",
      "Epoch 6/75\n",
      "404/404 [==============================] - 0s 240us/sample - loss: 19.4862 - mse: 19.4862 - mae: 3.1634 - val_loss: 22.4214 - val_mse: 22.4214 - val_mae: 3.7533\n",
      "Epoch 7/75\n",
      "404/404 [==============================] - 0s 231us/sample - loss: 17.5103 - mse: 17.5103 - mae: 3.0018 - val_loss: 22.2501 - val_mse: 22.2501 - val_mae: 3.6671\n",
      "Epoch 8/75\n",
      "404/404 [==============================] - 0s 224us/sample - loss: 15.8857 - mse: 15.8857 - mae: 2.8786 - val_loss: 21.5192 - val_mse: 21.5192 - val_mae: 3.5319\n",
      "Epoch 9/75\n",
      "404/404 [==============================] - 0s 208us/sample - loss: 14.9545 - mse: 14.9545 - mae: 2.7676 - val_loss: 21.6990 - val_mse: 21.6990 - val_mae: 3.5095\n",
      "Epoch 10/75\n",
      "404/404 [==============================] - 0s 224us/sample - loss: 13.9414 - mse: 13.9414 - mae: 2.6780 - val_loss: 20.8370 - val_mse: 20.8370 - val_mae: 3.4670\n",
      "Epoch 11/75\n",
      "404/404 [==============================] - 0s 217us/sample - loss: 13.2270 - mse: 13.2270 - mae: 2.6057 - val_loss: 21.3335 - val_mse: 21.3335 - val_mae: 3.4475\n",
      "Epoch 12/75\n",
      "404/404 [==============================] - 0s 222us/sample - loss: 12.7282 - mse: 12.7282 - mae: 2.5698 - val_loss: 20.7473 - val_mse: 20.7473 - val_mae: 3.3393\n",
      "Epoch 13/75\n",
      "404/404 [==============================] - 0s 205us/sample - loss: 12.0392 - mse: 12.0392 - mae: 2.5303 - val_loss: 20.4038 - val_mse: 20.4038 - val_mae: 3.2935\n",
      "Epoch 14/75\n",
      "404/404 [==============================] - 0s 228us/sample - loss: 11.8870 - mse: 11.8870 - mae: 2.4770 - val_loss: 21.1113 - val_mse: 21.1113 - val_mae: 3.3154\n",
      "Epoch 15/75\n",
      "404/404 [==============================] - 0s 216us/sample - loss: 11.2044 - mse: 11.2044 - mae: 2.4076 - val_loss: 20.4151 - val_mse: 20.4151 - val_mae: 3.2440\n",
      "Epoch 16/75\n",
      "404/404 [==============================] - 0s 220us/sample - loss: 10.6287 - mse: 10.6287 - mae: 2.3497 - val_loss: 20.9375 - val_mse: 20.9375 - val_mae: 3.2469\n",
      "Epoch 17/75\n",
      "404/404 [==============================] - 0s 222us/sample - loss: 10.3380 - mse: 10.3380 - mae: 2.3294 - val_loss: 19.8404 - val_mse: 19.8404 - val_mae: 3.1379\n",
      "Epoch 18/75\n",
      "404/404 [==============================] - 0s 217us/sample - loss: 10.2500 - mse: 10.2500 - mae: 2.3156 - val_loss: 20.3840 - val_mse: 20.3840 - val_mae: 3.1781\n",
      "Epoch 19/75\n",
      "404/404 [==============================] - 0s 221us/sample - loss: 9.9157 - mse: 9.9157 - mae: 2.2627 - val_loss: 19.2487 - val_mse: 19.2487 - val_mae: 3.0767\n",
      "Epoch 20/75\n",
      "404/404 [==============================] - 0s 318us/sample - loss: 9.6363 - mse: 9.6363 - mae: 2.2582 - val_loss: 20.8970 - val_mse: 20.8970 - val_mae: 3.1589\n",
      "Epoch 21/75\n",
      "404/404 [==============================] - 0s 242us/sample - loss: 9.8447 - mse: 9.8447 - mae: 2.2300 - val_loss: 19.4231 - val_mse: 19.4231 - val_mae: 3.0654\n",
      "Epoch 22/75\n",
      "404/404 [==============================] - 0s 248us/sample - loss: 9.4939 - mse: 9.4939 - mae: 2.2505 - val_loss: 20.0414 - val_mse: 20.0414 - val_mae: 3.0661\n",
      "Epoch 23/75\n",
      "404/404 [==============================] - 0s 236us/sample - loss: 9.3652 - mse: 9.3652 - mae: 2.1994 - val_loss: 20.5244 - val_mse: 20.5244 - val_mae: 3.1168\n",
      "Epoch 24/75\n",
      "404/404 [==============================] - 0s 249us/sample - loss: 9.1550 - mse: 9.1550 - mae: 2.1844 - val_loss: 20.8373 - val_mse: 20.8373 - val_mae: 3.1516\n",
      "Epoch 25/75\n",
      "404/404 [==============================] - 0s 245us/sample - loss: 8.9705 - mse: 8.9705 - mae: 2.1370 - val_loss: 19.8517 - val_mse: 19.8517 - val_mae: 3.1065\n",
      "Epoch 26/75\n",
      "404/404 [==============================] - 0s 238us/sample - loss: 8.9249 - mse: 8.9249 - mae: 2.1446 - val_loss: 19.2911 - val_mse: 19.2911 - val_mae: 2.9834\n",
      "Epoch 27/75\n",
      "404/404 [==============================] - 0s 252us/sample - loss: 8.7900 - mse: 8.7900 - mae: 2.1381 - val_loss: 18.7780 - val_mse: 18.7780 - val_mae: 2.9400\n",
      "Epoch 28/75\n",
      "404/404 [==============================] - 0s 247us/sample - loss: 8.7533 - mse: 8.7533 - mae: 2.1154 - val_loss: 20.9524 - val_mse: 20.9524 - val_mae: 3.1398\n",
      "Epoch 29/75\n",
      "404/404 [==============================] - 0s 244us/sample - loss: 8.5683 - mse: 8.5683 - mae: 2.1172 - val_loss: 19.5367 - val_mse: 19.5367 - val_mae: 2.9864\n",
      "Epoch 30/75\n",
      "404/404 [==============================] - 0s 247us/sample - loss: 8.4288 - mse: 8.4288 - mae: 2.1020 - val_loss: 20.0785 - val_mse: 20.0785 - val_mae: 2.9767\n",
      "Epoch 31/75\n",
      "404/404 [==============================] - 0s 255us/sample - loss: 8.4775 - mse: 8.4775 - mae: 2.0715 - val_loss: 19.5191 - val_mse: 19.5191 - val_mae: 2.9304\n",
      "Epoch 32/75\n",
      "404/404 [==============================] - 0s 254us/sample - loss: 8.2087 - mse: 8.2087 - mae: 2.0385 - val_loss: 20.1108 - val_mse: 20.1108 - val_mae: 3.0020\n",
      "Epoch 33/75\n",
      "404/404 [==============================] - 0s 254us/sample - loss: 8.3249 - mse: 8.3249 - mae: 2.0866 - val_loss: 19.2314 - val_mse: 19.2314 - val_mae: 2.9787\n",
      "Epoch 34/75\n",
      "404/404 [==============================] - 0s 245us/sample - loss: 8.5089 - mse: 8.5089 - mae: 2.0984 - val_loss: 18.6740 - val_mse: 18.6740 - val_mae: 2.8703\n",
      "Epoch 35/75\n",
      "404/404 [==============================] - 0s 266us/sample - loss: 7.8828 - mse: 7.8828 - mae: 2.0021 - val_loss: 18.1984 - val_mse: 18.1984 - val_mae: 2.8704\n",
      "Epoch 36/75\n",
      "404/404 [==============================] - 0s 256us/sample - loss: 8.0209 - mse: 8.0209 - mae: 2.0424 - val_loss: 18.3274 - val_mse: 18.3274 - val_mae: 2.8324\n",
      "Epoch 37/75\n",
      "404/404 [==============================] - 0s 249us/sample - loss: 8.0256 - mse: 8.0256 - mae: 2.0239 - val_loss: 17.5685 - val_mse: 17.5685 - val_mae: 2.8253\n",
      "Epoch 38/75\n",
      "404/404 [==============================] - 0s 234us/sample - loss: 7.7329 - mse: 7.7329 - mae: 1.9780 - val_loss: 18.0638 - val_mse: 18.0638 - val_mae: 2.8086\n",
      "Epoch 39/75\n",
      "404/404 [==============================] - 0s 232us/sample - loss: 7.6564 - mse: 7.6564 - mae: 1.9854 - val_loss: 17.9088 - val_mse: 17.9088 - val_mae: 2.8053\n",
      "Epoch 40/75\n",
      "404/404 [==============================] - 0s 239us/sample - loss: 7.5431 - mse: 7.5431 - mae: 1.9668 - val_loss: 19.0797 - val_mse: 19.0797 - val_mae: 2.9534\n",
      "Epoch 41/75\n",
      "404/404 [==============================] - 0s 241us/sample - loss: 7.5963 - mse: 7.5963 - mae: 1.9362 - val_loss: 19.2375 - val_mse: 19.2375 - val_mae: 2.9725\n",
      "Epoch 42/75\n",
      "404/404 [==============================] - 0s 231us/sample - loss: 7.4908 - mse: 7.4908 - mae: 1.9735 - val_loss: 18.4784 - val_mse: 18.4784 - val_mae: 2.8208\n",
      "Epoch 43/75\n",
      "404/404 [==============================] - 0s 226us/sample - loss: 7.3721 - mse: 7.3721 - mae: 1.9388 - val_loss: 18.8243 - val_mse: 18.8243 - val_mae: 2.8598\n",
      "Epoch 44/75\n",
      "404/404 [==============================] - 0s 222us/sample - loss: 7.1434 - mse: 7.1434 - mae: 1.9206 - val_loss: 19.4507 - val_mse: 19.4507 - val_mae: 2.9707\n",
      "Epoch 45/75\n",
      "404/404 [==============================] - 0s 231us/sample - loss: 7.1601 - mse: 7.1601 - mae: 1.8988 - val_loss: 17.7180 - val_mse: 17.7180 - val_mae: 2.7766\n",
      "Epoch 46/75\n",
      "404/404 [==============================] - 0s 230us/sample - loss: 7.0243 - mse: 7.0243 - mae: 1.9144 - val_loss: 17.4651 - val_mse: 17.4651 - val_mae: 2.7526\n",
      "Epoch 47/75\n",
      "404/404 [==============================] - 0s 245us/sample - loss: 7.1432 - mse: 7.1432 - mae: 1.9272 - val_loss: 18.1771 - val_mse: 18.1771 - val_mae: 2.8583\n",
      "Epoch 48/75\n",
      "404/404 [==============================] - 0s 214us/sample - loss: 7.0976 - mse: 7.0976 - mae: 1.9091 - val_loss: 17.2489 - val_mse: 17.2489 - val_mae: 2.7248\n",
      "Epoch 49/75\n",
      "404/404 [==============================] - 0s 219us/sample - loss: 6.8903 - mse: 6.8903 - mae: 1.8772 - val_loss: 18.3993 - val_mse: 18.3993 - val_mae: 2.8030\n",
      "Epoch 50/75\n",
      "404/404 [==============================] - 0s 228us/sample - loss: 6.6525 - mse: 6.6525 - mae: 1.8609 - val_loss: 18.2852 - val_mse: 18.2852 - val_mae: 3.0086\n",
      "Epoch 51/75\n",
      "404/404 [==============================] - 0s 229us/sample - loss: 6.7569 - mse: 6.7569 - mae: 1.8727 - val_loss: 18.5453 - val_mse: 18.5453 - val_mae: 2.9037\n",
      "Epoch 52/75\n",
      "404/404 [==============================] - 0s 227us/sample - loss: 6.5685 - mse: 6.5685 - mae: 1.8624 - val_loss: 17.4937 - val_mse: 17.4937 - val_mae: 2.9701\n",
      "Epoch 53/75\n",
      "404/404 [==============================] - 0s 227us/sample - loss: 7.0141 - mse: 7.0141 - mae: 1.9295 - val_loss: 17.2908 - val_mse: 17.2908 - val_mae: 2.7980\n",
      "Epoch 54/75\n",
      "404/404 [==============================] - 0s 236us/sample - loss: 6.4418 - mse: 6.4418 - mae: 1.8234 - val_loss: 17.9035 - val_mse: 17.9035 - val_mae: 2.8036\n",
      "Epoch 55/75\n",
      "404/404 [==============================] - 0s 245us/sample - loss: 6.5280 - mse: 6.5280 - mae: 1.8220 - val_loss: 17.7421 - val_mse: 17.7421 - val_mae: 2.7178\n",
      "Epoch 56/75\n",
      "404/404 [==============================] - 0s 222us/sample - loss: 6.2773 - mse: 6.2773 - mae: 1.7922 - val_loss: 17.8618 - val_mse: 17.8618 - val_mae: 2.9256\n",
      "Epoch 57/75\n",
      "404/404 [==============================] - 0s 229us/sample - loss: 6.3746 - mse: 6.3746 - mae: 1.8268 - val_loss: 17.5997 - val_mse: 17.5997 - val_mae: 2.7500\n",
      "Epoch 58/75\n",
      "404/404 [==============================] - 0s 231us/sample - loss: 6.3312 - mse: 6.3312 - mae: 1.8126 - val_loss: 15.8775 - val_mse: 15.8775 - val_mae: 2.6386\n",
      "Epoch 59/75\n",
      "404/404 [==============================] - 0s 223us/sample - loss: 6.1635 - mse: 6.1635 - mae: 1.7770 - val_loss: 16.2599 - val_mse: 16.2599 - val_mae: 2.7459\n",
      "Epoch 60/75\n",
      "404/404 [==============================] - 0s 220us/sample - loss: 6.0802 - mse: 6.0802 - mae: 1.7784 - val_loss: 16.4696 - val_mse: 16.4696 - val_mae: 2.6506\n",
      "Epoch 61/75\n",
      "404/404 [==============================] - 0s 217us/sample - loss: 6.0911 - mse: 6.0911 - mae: 1.7603 - val_loss: 17.0114 - val_mse: 17.0114 - val_mae: 2.7476\n",
      "Epoch 62/75\n",
      "404/404 [==============================] - 0s 233us/sample - loss: 5.9854 - mse: 5.9854 - mae: 1.7555 - val_loss: 17.7638 - val_mse: 17.7638 - val_mae: 2.7969\n",
      "Epoch 63/75\n",
      "404/404 [==============================] - 0s 222us/sample - loss: 5.8680 - mse: 5.8680 - mae: 1.7396 - val_loss: 16.3979 - val_mse: 16.3979 - val_mae: 2.6254\n",
      "Epoch 64/75\n",
      "404/404 [==============================] - 0s 231us/sample - loss: 5.8119 - mse: 5.8119 - mae: 1.7203 - val_loss: 16.6613 - val_mse: 16.6613 - val_mae: 2.7292\n",
      "Epoch 65/75\n",
      "404/404 [==============================] - 0s 228us/sample - loss: 5.5976 - mse: 5.5976 - mae: 1.7208 - val_loss: 15.2832 - val_mse: 15.2832 - val_mae: 2.6544\n",
      "Epoch 66/75\n",
      "404/404 [==============================] - 0s 226us/sample - loss: 5.9567 - mse: 5.9567 - mae: 1.7483 - val_loss: 16.6116 - val_mse: 16.6116 - val_mae: 2.7007\n",
      "Epoch 67/75\n",
      "404/404 [==============================] - 0s 239us/sample - loss: 5.6044 - mse: 5.6044 - mae: 1.7002 - val_loss: 16.1416 - val_mse: 16.1416 - val_mae: 2.6832\n",
      "Epoch 68/75\n",
      "404/404 [==============================] - 0s 240us/sample - loss: 5.6470 - mse: 5.6470 - mae: 1.7120 - val_loss: 14.8036 - val_mse: 14.8036 - val_mae: 2.5773\n",
      "Epoch 69/75\n",
      "404/404 [==============================] - 0s 243us/sample - loss: 5.5909 - mse: 5.5909 - mae: 1.6974 - val_loss: 15.8673 - val_mse: 15.8673 - val_mae: 2.7299\n",
      "Epoch 70/75\n",
      "404/404 [==============================] - 0s 218us/sample - loss: 5.4557 - mse: 5.4557 - mae: 1.6580 - val_loss: 15.1260 - val_mse: 15.1260 - val_mae: 2.6215\n",
      "Epoch 71/75\n",
      "404/404 [==============================] - 0s 225us/sample - loss: 5.3122 - mse: 5.3122 - mae: 1.6547 - val_loss: 16.3377 - val_mse: 16.3377 - val_mae: 2.7829\n",
      "Epoch 72/75\n",
      "404/404 [==============================] - 0s 225us/sample - loss: 5.3892 - mse: 5.3892 - mae: 1.6647 - val_loss: 15.4660 - val_mse: 15.4660 - val_mae: 2.6441\n",
      "Epoch 73/75\n",
      "404/404 [==============================] - 0s 240us/sample - loss: 5.3549 - mse: 5.3549 - mae: 1.6676 - val_loss: 14.7673 - val_mse: 14.7673 - val_mae: 2.5636\n",
      "Epoch 74/75\n",
      "404/404 [==============================] - 0s 227us/sample - loss: 5.4493 - mse: 5.4493 - mae: 1.6692 - val_loss: 14.9627 - val_mse: 14.9627 - val_mae: 2.6522\n",
      "Epoch 75/75\n",
      "404/404 [==============================] - 0s 235us/sample - loss: 5.5834 - mse: 5.5834 - mae: 1.7036 - val_loss: 14.8658 - val_mse: 14.8658 - val_mae: 2.5988\n"
     ]
    },
    {
     "data": {
      "text/plain": [
       "<tensorflow.python.keras.callbacks.History at 0x7f7de05f6b38>"
      ]
     },
     "execution_count": 3,
     "metadata": {},
     "output_type": "execute_result"
    }
   ],
   "source": [
    "from tensorflow import keras\n",
    "from tensorflow.keras.models import Sequential\n",
    "from tensorflow.keras.layers import Dense\n",
    "\n",
    "# Important Hyperparameters\n",
    "inputs = x_train.shape[1]\n",
    "epochs = 75\n",
    "batch_size = 10\n",
    "\n",
    "\n",
    "# Create Model\n",
    "model = Sequential()\n",
    "model.add(Dense(64, activation='relu', input_shape=(inputs,)))\n",
    "model.add(Dense(64, activation='relu'))\n",
    "model.add(Dense(1))\n",
    "# Compile Model\n",
    "model.compile(optimizer='adam', loss='mse', metrics=['mse', 'mae'])\n",
    "\n",
    "# Fit Model\n",
    "\n",
    "model.fit(x_train, y_train, \n",
    "          validation_data=(x_test,y_test), \n",
    "          epochs=epochs, \n",
    "          batch_size=batch_size\n",
    "         )"
   ]
  },
  {
   "cell_type": "markdown",
   "metadata": {
    "colab_type": "text",
    "id": "sYJ8t_ezHP4W"
   },
   "source": [
    "### Hyperparameter Tuning Approaches:\n",
    "\n",
    "#### 1) Babysitting AKA \"Grad Student Descent\".\n",
    "\n",
    "If you fiddled with any hyperparameters yesterday, this is basically what you did. This approach is 100% manual and is pretty common among researchers where finding that 1 exact specification that jumps your model to a level of accuracy never seen before is the difference between publishing and not publishing a paper. Of course the professors don't do this themselves, that's grunt work. This is also known as the fiddle with hyperparameters until you run out of time method.\n",
    "\n",
    "#### 2) Grid Search\n",
    "\n",
    "Grid Search is the Grad Student galaxy brain realization of: why don't I just specify all the experiments I want to run and let the computer try every possible combination of them while I go and grab lunch. This has a specific downside in that if I specify 5 hyperparameters with 5 options each then I've just created 5^5 combinations of hyperparameters to check. Which means that I have to train 3125 different versions of my model Then if I use 5-fold Cross Validation on that then my model has to run 15,525 times. This is the brute-force method of hyperparameter tuning, but it can be very profitable if done wisely. \n",
    "\n",
    "When using Grid Search here's what I suggest: don't use it to test combinations of different hyperparameters, only use it to test different specifications of **a single** hyperparameter. It's rare that combinations between different hyperparameters lead to big performance gains. You'll get 90-95% of the way there if you just Grid Search one parameter and take the best result, then retain that best result while you test another, and then retain the best specification from that while you train another. This at least makes the situation much more manageable and leads to pretty good results. \n",
    "\n",
    "#### 3) Random Search\n",
    "\n",
    "Do Grid Search for a couple of hours and you'll say to yourself - \"There's got to be a better way.\" Enter Random Search. For Random search you specify a hyperparameter space and it picks specifications from that randomly, tries them out, gives you the best results and says - That's going to have to be good enough, go home and spend time with your family. \n",
    "\n",
    "Grid Search treats every parameter as if it was equally important, but this just isn't the case, some are known to move the needle a lot more than others (we'll talk about that in a minute). Random Search allows searching to be specified along the most important parameter and experiments less along the dimensions of less important hyperparameters. The downside of Random search is that it won't find the absolute best hyperparameters, but it is much less costly to perform than Grid Search. \n",
    "\n",
    "#### 4) Bayesian Methods\n",
    "\n",
    "One thing that can make more manual methods like babysitting and gridsearch effective is that as the experimenter sees results he can then make updates to his future searches taking into account the results of past specifications. If only we could hyperparameter tune our hyperparameter tuning. Well, we kind of can. Enter Bayesian Optimization. Neural Networks are like an optimization problem within an optimization problem, and Bayesian Optimization is a search strategy that tries to take into account the results of past searches in order to improve future ones. This is the most advanced method but can be a little bit tricky to implement, but there are some early steps with `hyperas` which is Bayesian optimization wrapper for `keras`. "
   ]
  },
  {
   "cell_type": "markdown",
   "metadata": {
    "colab_type": "text",
    "id": "HfQ7D043OMMn"
   },
   "source": [
    "## What Hyperparameters are there to test?\n",
    "\n",
    "- batch_size\n",
    "- training epochs\n",
    "- optimization algorithms\n",
    "- learning rate\n",
    "- momentum\n",
    "- activation functions\n",
    "- dropout regularization\n",
    "- number of neurons in the hidden layer\n",
    "\n",
    "There are more, but these are the most important."
   ]
  },
  {
   "cell_type": "markdown",
   "metadata": {},
   "source": [
    "## Follow Along"
   ]
  },
  {
   "cell_type": "markdown",
   "metadata": {
    "colab_type": "text",
    "id": "Mri5-kXzVKAa"
   },
   "source": [
    "## Batch Size\n",
    "\n",
    "Batch size determines how many observations the model is shown before it calculates loss/error and updates the model weights via gradient descent. You're looking for a sweet spot here where you're showing it enough observations that you have enough information to updates the weights, but not such a large batch size that you don't get a lot of weight update iterations performed in a given epoch. Feed-forward Neural Networks aren't as sensitive to bach_size as other networks, but it is still an important hyperparameter to tune. Smaller batch sizes will also take longer to train. "
   ]
  },
  {
   "cell_type": "code",
   "execution_count": 5,
   "metadata": {
    "colab": {
     "base_uri": "https://localhost:8080/",
     "height": 13561
    },
    "colab_type": "code",
    "id": "2smXfriNAGn7",
    "outputId": "ae996575-78e2-43fb-9dbe-5d44aaf0b430"
   },
   "outputs": [
    {
     "name": "stderr",
     "output_type": "stream",
     "text": [
      "/usr/local/lib/python3.6/dist-packages/sklearn/model_selection/_split.py:1978: FutureWarning: The default value of cv will change from 3 to 5 in version 0.22. Specify it explicitly to silence this warning.\n",
      "  warnings.warn(CV_WARNING, FutureWarning)\n"
     ]
    },
    {
     "name": "stdout",
     "output_type": "stream",
     "text": [
      "Best: 0.6614583333333334 using {'batch_size': 10, 'epochs': 20}\n",
      "Means: 0.6614583333333334, Stdev: 0.054904085006010454 with: {'batch_size': 10, 'epochs': 20}\n",
      "Means: 0.58203125, Stdev: 0.05749844314015525 with: {'batch_size': 20, 'epochs': 20}\n",
      "Means: 0.5625, Stdev: 0.036225072248030094 with: {'batch_size': 40, 'epochs': 20}\n",
      "Means: 0.5598958333333334, Stdev: 0.09223677473137935 with: {'batch_size': 60, 'epochs': 20}\n",
      "Means: 0.6276041666666666, Stdev: 0.057084141189538994 with: {'batch_size': 80, 'epochs': 20}\n",
      "Means: 0.5364583333333334, Stdev: 0.09764756905860768 with: {'batch_size': 100, 'epochs': 20}\n"
     ]
    }
   ],
   "source": [
    "import numpy\n",
    "import pandas as pd\n",
    "from sklearn.model_selection import GridSearchCV\n",
    "from tensorflow.keras.models import Sequential\n",
    "from tensorflow.keras.layers import Dense\n",
    "from tensorflow.keras.wrappers.scikit_learn import KerasClassifier\n",
    "\n",
    "# fix random seed for reproducibility\n",
    "seed = 7\n",
    "numpy.random.seed(seed)\n",
    "\n",
    "# load dataset\n",
    "url =\"https://raw.githubusercontent.com/jbrownlee/Datasets/master/pima-indians-diabetes.data.csv\"\n",
    "\n",
    "dataset = pd.read_csv(url, header=None).values\n",
    "\n",
    "# split into input (X) and output (Y) variables\n",
    "X = dataset[:,0:8]\n",
    "Y = dataset[:,8]\n",
    "\n",
    "# Function to create model, required for KerasClassifier\n",
    "def create_model():\n",
    "    # create model\n",
    "    model = Sequential()\n",
    "    model.add(Dense(12, input_dim=8, activation='relu'))\n",
    "    model.add(Dense(1, activation='sigmoid'))\n",
    "    # Compile model\n",
    "    model.compile(loss='binary_crossentropy', optimizer='adam', metrics=['accuracy'])\n",
    "    return model\n",
    "\n",
    "# create model\n",
    "model = KerasClassifier(build_fn=create_model, verbose=0)\n",
    "\n",
    "# define the grid search parameters\n",
    "# batch_size = [10, 20, 40, 60, 80, 100]\n",
    "# param_grid = dict(batch_size=batch_size, epochs=epochs)\n",
    "\n",
    "# define the grid search parameters\n",
    "param_grid = {'batch_size': [10, 20, 40, 60, 80, 100],\n",
    "              'epochs': [20]}\n",
    "\n",
    "# Create Grid Search\n",
    "grid = GridSearchCV(estimator=model, param_grid=param_grid, n_jobs=1)\n",
    "grid_result = grid.fit(X, Y)\n",
    "\n",
    "# Report Results\n",
    "print(f\"Best: {grid_result.best_score_} using {grid_result.best_params_}\")\n",
    "means = grid_result.cv_results_['mean_test_score']\n",
    "stds = grid_result.cv_results_['std_test_score']\n",
    "params = grid_result.cv_results_['params']\n",
    "for mean, stdev, param in zip(means, stds, params):\n",
    "    print(f\"Means: {mean}, Stdev: {stdev} with: {param}\") "
   ]
  },
  {
   "cell_type": "markdown",
   "metadata": {
    "colab_type": "text",
    "id": "pmABfjlvXbqi"
   },
   "source": [
    "## Epochs\n",
    "\n",
    "The number of training epochs has a large and direct affect on the accuracy, However, more epochs is almost always goign to better than less epochs. This means that if you tune this parameter at the beginning and try and maintain the same value all throughout your training, you're going to be waiting a long time for each iteration of GridSearch. I suggest picking a fixed moderat # of epochs all throughout your training and then Grid Searching this parameter at the very end. "
   ]
  },
  {
   "cell_type": "code",
   "execution_count": 6,
   "metadata": {
    "colab": {
     "base_uri": "https://localhost:8080/",
     "height": 26329
    },
    "colab_type": "code",
    "id": "bAmxP3N7TmFh",
    "outputId": "3ddb08c4-51ac-4eaa-ff39-143397024544"
   },
   "outputs": [
    {
     "name": "stdout",
     "output_type": "stream",
     "text": [
      "Best: 0.7200520833333334 using {'batch_size': 10, 'epochs': 200}\n",
      "Means: 0.6575520833333334, Stdev: 0.026748227323143407 with: {'batch_size': 10, 'epochs': 20}\n",
      "Means: 0.65625, Stdev: 0.008438464451051902 with: {'batch_size': 10, 'epochs': 40}\n",
      "Means: 0.6822916666666666, Stdev: 0.016366933710906945 with: {'batch_size': 10, 'epochs': 60}\n",
      "Means: 0.7200520833333334, Stdev: 0.04101045767714485 with: {'batch_size': 10, 'epochs': 200}\n"
     ]
    }
   ],
   "source": [
    "# define the grid search parameters\n",
    "param_grid = {'batch_size': [10],\n",
    "              'epochs': [20, 40, 60,200]}\n",
    "\n",
    "# Create Grid Search\n",
    "grid = GridSearchCV(estimator=model, param_grid=param_grid, n_jobs=1)\n",
    "grid_result = grid.fit(X, Y)\n",
    "\n",
    "# Report Results\n",
    "print(f\"Best: {grid_result.best_score_} using {grid_result.best_params_}\")\n",
    "means = grid_result.cv_results_['mean_test_score']\n",
    "stds = grid_result.cv_results_['std_test_score']\n",
    "params = grid_result.cv_results_['params']\n",
    "for mean, stdev, param in zip(means, stds, params):\n",
    "    print(f\"Means: {mean}, Stdev: {stdev} with: {param}\")"
   ]
  },
  {
   "cell_type": "markdown",
   "metadata": {
    "colab_type": "text",
    "id": "EKcuY6OiaLfz"
   },
   "source": [
    "## Optimizer\n",
    "\n",
    "Remember that there's a different optimizers [optimizers](https://keras.io/optimizers/). At some point, take some time to read up on them a little bit. \"adam\" usually gives the best results. The thing to know about choosing an optimizer is that different optimizers have different hyperparameters like learning rate, momentum, etc. So based on the optimizer you choose you might also have to tune the learning rate and momentum of those optimizers after that. "
   ]
  },
  {
   "cell_type": "markdown",
   "metadata": {
    "colab_type": "text",
    "id": "DG3wq5iOaLig"
   },
   "source": [
    "## Learning Rate\n",
    "\n",
    "Remember that the Learning Rate is a hyperparameter that is specific to your gradient-descent based optimizer selection. A learning rate that is too high will cause divergent behavior, but a Learning Rate that is too low will fail to converge, again, you're looking for the sweet spot. I would start out tuning learning rates by orders of magnitude: [.001, .01, .1, .2, .3, .5] etc. I wouldn't go above .5, but you can try it and see what the behavior is like. \n",
    "\n",
    "Once you have narrowed it down, make the window even smaller and try it again. If after running the above specification your model reports that .1 is the best optimizer, then you should probably try things like [.05, .08, .1, .12, .15] to try and narrow it down. \n",
    "\n",
    "It can also be good to tune the number of epochs in combination with the learning rate since the number of iterations that you allow the learning rate to reach the minimum can determine if you have let it run long enough to converge to the minimum. "
   ]
  },
  {
   "cell_type": "markdown",
   "metadata": {
    "colab_type": "text",
    "id": "gNTBUWd1aLlA"
   },
   "source": [
    "## Momentum\n",
    "\n",
    "Momentum is a hyperparameter that is more commonly associated with Stochastic Gradient Descent. SGD is a common optimizer because it's what people understand and know, but I doubt it will get you the best results, you can try hyperparameter tuning its attributes and see if you can beat the performance from adam. Momentum is a property that decides the willingness of an optimizer to overshoot the minimum. Imagine a ball rolling down one side of a bowl and then up the opposite side a little bit before settling back to the bottom. The purpose of momentum is to try and escale local minima."
   ]
  },
  {
   "cell_type": "markdown",
   "metadata": {
    "colab_type": "text",
    "id": "xnEG-bCJaLnZ"
   },
   "source": [
    "## Activation Functions\n",
    "\n",
    "We've talked about this a little bit, typically you'l want to use ReLU for hidden layers and either Sigmoid, or Softmax for output layers of binary and multi-class classification implementations respectively, but try other activation functions and see if you can get any better results with sigmoid or tanh or something. There are a lot of activation functions that we haven't really talked about. Maybe you'll get good results with them. Maybe you won't. :) <https://keras.io/activations/>"
   ]
  },
  {
   "cell_type": "markdown",
   "metadata": {
    "colab_type": "text",
    "id": "oul9sPq-dU-h"
   },
   "source": [
    "## Network Weight Initialization\n",
    "\n",
    "You saw how big of an effect the way that we initialize our network's weights can have on our results. There are **a lot** of what are called initialization modes. I don't understand all of them, but they can have a big affect on your model's initial accuracy. Your model will get further with less epochs if you initialize it with weights that are well suited to the problem you're trying to solve.\n",
    "\n",
    "`init_mode = ['uniform', 'lecun_uniform', 'normal', 'zero', 'glorot_normal', 'glorot_uniform', 'he_normal', 'he_uniform']`"
   ]
  },
  {
   "cell_type": "markdown",
   "metadata": {
    "colab_type": "text",
    "id": "bqtEuxeQaLqE"
   },
   "source": [
    "## Dropout Regularization and the Weight Constraint\n",
    "\n",
    "the Dropout Regularization value is a percentage of neurons that you want to be randomly deactivated during training. The weight constraint is a second regularization parameter that works in tandem with dropout regularization. You should tune these two values at the same time. \n",
    "\n",
    "Using dropout on visible vs hidden layers might have a different effect. Using dropout on hidden layers might not have any effect while using dropout on hidden layers might have a substantial effect. You don't necessarily need to turn use dropout unless you see that your model has overfitting and generalizability problems."
   ]
  },
  {
   "cell_type": "markdown",
   "metadata": {
    "colab_type": "text",
    "id": "P2c5Cv6oaLtO"
   },
   "source": [
    "## Neurons in Hidden Layer \n",
    "\n",
    "Remember that when we only had a single perceptron our model was only able to fit to linearly separable data, but as we have added layers and nodes to those layers our network has become a powerhouse of fitting nonlinearity in data. The larger the network and the more nodes generally the stronger the network's capacity to fit nonlinear patterns in data. The more nodes and layers the longer it will take to train a network, and higher the probability of overfitting. The larger your network gets the more you'll need dropout regularization or other regularization techniques to keep it in check. \n",
    "\n",
    "Typically depth (more layers) is more important than width (more nodes) for neural networks. This is part of why Deep Learning is so highly touted. Certain deep learning architectures have truly been huge breakthroughs for certain machine learning tasks. \n",
    "\n",
    "You might borrow ideas from other network architectures. For example if I was doing image recognition and I wasn't taking cues from state of the art architectures like resnet, alexnet, googlenet, etc. Then I'm probably going to have to do a lot more experimentation on my own before I find something that works.\n",
    "\n",
    "There are some heuristics, but I am highly skeptical of them. I think you're better off experimenting on your own and forming your own intuition for these kinds of problems. \n",
    "\n",
    "- https://machinelearningmastery.com/how-to-configure-the-number-of-layers-and-nodes-in-a-neural-network/"
   ]
  },
  {
   "cell_type": "markdown",
   "metadata": {},
   "source": [
    "## Challenge\n",
    "You will be expected to tune several hyperparameters in today's module project. "
   ]
  },
  {
   "cell_type": "markdown",
   "metadata": {},
   "source": [
    "# Experiment Tracking Framework (Learn)\n",
    "<a id=\"p2\"></a>"
   ]
  },
  {
   "cell_type": "markdown",
   "metadata": {},
   "source": [
    "## Overview\n",
    "\n",
    "You will notice quickly that managing the results of all the experiments you are running becomes challenging. Which set of parameters did the best? Are my results today different than my results yesterday? Although we use Ipython Notebooks to work, the format is not well suited to logging experimental results. Enter experiment tracking frameworks like [Comet.ml](https://comet.ml) and [Weights and Biases](https://wandb.ai/).\n",
    "\n",
    "Those tools will help you track your experiments, store the results, and the code associated with those experiments. Experimental results can also be readily visualized to see changes in performance across any metric you care about. Data is sent to the tool as each epoch is completed, so you can also see if your model is converging. Let's check out Weights & Biases today. "
   ]
  },
  {
   "cell_type": "markdown",
   "metadata": {},
   "source": [
    "## Follow Along\n",
    "\n",
    "Make sure you login into `wandb` in the terminal before running the next cell. "
   ]
  },
  {
   "cell_type": "code",
   "execution_count": 10,
   "metadata": {},
   "outputs": [],
   "source": [
    "import wandb\n",
    "from wandb.keras import WandbCallback"
   ]
  },
  {
   "cell_type": "code",
   "execution_count": 11,
   "metadata": {
    "colab": {
     "base_uri": "https://localhost:8080/",
     "height": 1750
    },
    "colab_type": "code",
    "id": "GMXVfmzXp1Oo",
    "outputId": "b05e251e-508f-46e6-865b-f869ae2a5dc4"
   },
   "outputs": [
    {
     "data": {
      "text/html": [
       "\n",
       "                Logging results to <a href=\"https://wandb.com\" target=\"_blank\">Weights & Biases</a> <a href=\"https://docs.wandb.com/integrations/jupyter.html\" target=\"_blank\">(Documentation)</a>.<br/>\n",
       "                Project page: <a href=\"https://app.wandb.ai/lambda-ds7/boston\" target=\"_blank\">https://app.wandb.ai/lambda-ds7/boston</a><br/>\n",
       "                Run page: <a href=\"https://app.wandb.ai/lambda-ds7/boston/runs/hpbikuqt\" target=\"_blank\">https://app.wandb.ai/lambda-ds7/boston/runs/hpbikuqt</a><br/>\n",
       "            "
      ],
      "text/plain": [
       "<IPython.core.display.HTML object>"
      ]
     },
     "metadata": {},
     "output_type": "display_data"
    },
    {
     "name": "stdout",
     "output_type": "stream",
     "text": [
      "Train on 270 samples, validate on 134 samples\n",
      "Epoch 1/50\n",
      "270/270 [==============================] - 1s 2ms/sample - loss: 542.6229 - mse: 542.6229 - val_loss: 613.4104 - val_mse: 613.4103\n",
      "Epoch 2/50\n",
      "270/270 [==============================] - 0s 221us/sample - loss: 515.7794 - mse: 515.7794 - val_loss: 585.6940 - val_mse: 585.6940\n",
      "Epoch 3/50\n",
      "270/270 [==============================] - 0s 221us/sample - loss: 489.1560 - mse: 489.1560 - val_loss: 555.7399 - val_mse: 555.7399\n",
      "Epoch 4/50\n",
      "270/270 [==============================] - 0s 222us/sample - loss: 459.5435 - mse: 459.5435 - val_loss: 522.0359 - val_mse: 522.0359\n",
      "Epoch 5/50\n",
      "270/270 [==============================] - 0s 218us/sample - loss: 426.7799 - mse: 426.7799 - val_loss: 483.8164 - val_mse: 483.8164\n",
      "Epoch 6/50\n",
      "270/270 [==============================] - 0s 223us/sample - loss: 389.4474 - mse: 389.4474 - val_loss: 440.4657 - val_mse: 440.4657\n",
      "Epoch 7/50\n",
      "270/270 [==============================] - 0s 227us/sample - loss: 347.4014 - mse: 347.4015 - val_loss: 392.6660 - val_mse: 392.6660\n",
      "Epoch 8/50\n",
      "270/270 [==============================] - 0s 240us/sample - loss: 301.5478 - mse: 301.5478 - val_loss: 341.3498 - val_mse: 341.3498\n",
      "Epoch 9/50\n",
      "270/270 [==============================] - 0s 230us/sample - loss: 253.3802 - mse: 253.3802 - val_loss: 288.3960 - val_mse: 288.3960\n",
      "Epoch 10/50\n",
      "270/270 [==============================] - 0s 226us/sample - loss: 206.0767 - mse: 206.0767 - val_loss: 235.9911 - val_mse: 235.9911\n",
      "Epoch 11/50\n",
      "270/270 [==============================] - 0s 230us/sample - loss: 161.6535 - mse: 161.6535 - val_loss: 189.5775 - val_mse: 189.5775\n",
      "Epoch 12/50\n",
      "270/270 [==============================] - 0s 239us/sample - loss: 124.8994 - mse: 124.8994 - val_loss: 152.5591 - val_mse: 152.5591\n",
      "Epoch 13/50\n",
      "270/270 [==============================] - 0s 236us/sample - loss: 97.9244 - mse: 97.9244 - val_loss: 125.7973 - val_mse: 125.7973\n",
      "Epoch 14/50\n",
      "270/270 [==============================] - 0s 221us/sample - loss: 80.0973 - mse: 80.0973 - val_loss: 107.0594 - val_mse: 107.0594\n",
      "Epoch 15/50\n",
      "270/270 [==============================] - 0s 241us/sample - loss: 68.3282 - mse: 68.3282 - val_loss: 93.6705 - val_mse: 93.6705\n",
      "Epoch 16/50\n",
      "270/270 [==============================] - 0s 231us/sample - loss: 59.5750 - mse: 59.5750 - val_loss: 82.2315 - val_mse: 82.2315\n",
      "Epoch 17/50\n",
      "270/270 [==============================] - 0s 243us/sample - loss: 51.7544 - mse: 51.7544 - val_loss: 72.4432 - val_mse: 72.4432\n",
      "Epoch 18/50\n",
      "270/270 [==============================] - 0s 236us/sample - loss: 44.9942 - mse: 44.9942 - val_loss: 63.9945 - val_mse: 63.9945\n",
      "Epoch 19/50\n",
      "270/270 [==============================] - 0s 255us/sample - loss: 38.7144 - mse: 38.7144 - val_loss: 57.3586 - val_mse: 57.3586\n",
      "Epoch 20/50\n",
      "270/270 [==============================] - 0s 226us/sample - loss: 33.9071 - mse: 33.9071 - val_loss: 51.8623 - val_mse: 51.8623\n",
      "Epoch 21/50\n",
      "270/270 [==============================] - 0s 227us/sample - loss: 30.1965 - mse: 30.1965 - val_loss: 47.5522 - val_mse: 47.5522\n",
      "Epoch 22/50\n",
      "270/270 [==============================] - 0s 241us/sample - loss: 27.6267 - mse: 27.6267 - val_loss: 43.5997 - val_mse: 43.5997\n",
      "Epoch 23/50\n",
      "270/270 [==============================] - 0s 276us/sample - loss: 25.1637 - mse: 25.1637 - val_loss: 40.7985 - val_mse: 40.7985\n",
      "Epoch 24/50\n",
      "270/270 [==============================] - 0s 228us/sample - loss: 23.4687 - mse: 23.4687 - val_loss: 38.4080 - val_mse: 38.4080\n",
      "Epoch 25/50\n",
      "270/270 [==============================] - 0s 237us/sample - loss: 22.0964 - mse: 22.0964 - val_loss: 36.6157 - val_mse: 36.6157\n",
      "Epoch 26/50\n",
      "270/270 [==============================] - 0s 250us/sample - loss: 21.1338 - mse: 21.1338 - val_loss: 35.1560 - val_mse: 35.1560\n",
      "Epoch 27/50\n",
      "270/270 [==============================] - 0s 241us/sample - loss: 20.2961 - mse: 20.2961 - val_loss: 33.8126 - val_mse: 33.8126\n",
      "Epoch 28/50\n",
      "270/270 [==============================] - 0s 260us/sample - loss: 19.5153 - mse: 19.5153 - val_loss: 32.9215 - val_mse: 32.9215\n",
      "Epoch 29/50\n",
      "270/270 [==============================] - 0s 211us/sample - loss: 18.9627 - mse: 18.9627 - val_loss: 31.9189 - val_mse: 31.9189\n",
      "Epoch 30/50\n",
      "270/270 [==============================] - 0s 297us/sample - loss: 18.2966 - mse: 18.2966 - val_loss: 31.2597 - val_mse: 31.2597\n",
      "Epoch 31/50\n",
      "270/270 [==============================] - 0s 245us/sample - loss: 17.7610 - mse: 17.7610 - val_loss: 30.8385 - val_mse: 30.8385\n",
      "Epoch 32/50\n",
      "270/270 [==============================] - 0s 230us/sample - loss: 17.2614 - mse: 17.2614 - val_loss: 30.3309 - val_mse: 30.3309\n",
      "Epoch 33/50\n",
      "270/270 [==============================] - 0s 226us/sample - loss: 16.8217 - mse: 16.8217 - val_loss: 29.8041 - val_mse: 29.8041\n",
      "Epoch 34/50\n",
      "270/270 [==============================] - 0s 234us/sample - loss: 16.3989 - mse: 16.3989 - val_loss: 29.2053 - val_mse: 29.2053\n",
      "Epoch 35/50\n",
      "270/270 [==============================] - 0s 254us/sample - loss: 15.9783 - mse: 15.9783 - val_loss: 28.3672 - val_mse: 28.3672\n",
      "Epoch 36/50\n",
      "270/270 [==============================] - 0s 254us/sample - loss: 15.6311 - mse: 15.6311 - val_loss: 27.6270 - val_mse: 27.6270\n",
      "Epoch 37/50\n",
      "270/270 [==============================] - 0s 233us/sample - loss: 15.2522 - mse: 15.2522 - val_loss: 27.1081 - val_mse: 27.1081\n",
      "Epoch 38/50\n",
      "270/270 [==============================] - 0s 217us/sample - loss: 14.8507 - mse: 14.8507 - val_loss: 26.7015 - val_mse: 26.7015\n",
      "Epoch 39/50\n",
      "270/270 [==============================] - 0s 217us/sample - loss: 14.5000 - mse: 14.5000 - val_loss: 26.2731 - val_mse: 26.2731\n",
      "Epoch 40/50\n",
      "270/270 [==============================] - 0s 215us/sample - loss: 14.2169 - mse: 14.2169 - val_loss: 25.8835 - val_mse: 25.8835\n",
      "Epoch 41/50\n",
      "270/270 [==============================] - 0s 239us/sample - loss: 13.8908 - mse: 13.8908 - val_loss: 25.3702 - val_mse: 25.3702\n",
      "Epoch 42/50\n",
      "270/270 [==============================] - 0s 226us/sample - loss: 13.6325 - mse: 13.6325 - val_loss: 24.9003 - val_mse: 24.9003\n",
      "Epoch 43/50\n",
      "270/270 [==============================] - 0s 248us/sample - loss: 13.3238 - mse: 13.3238 - val_loss: 24.5700 - val_mse: 24.5700\n",
      "Epoch 44/50\n",
      "270/270 [==============================] - 0s 245us/sample - loss: 13.0540 - mse: 13.0540 - val_loss: 24.2374 - val_mse: 24.2374\n",
      "Epoch 45/50\n",
      "270/270 [==============================] - 0s 227us/sample - loss: 12.8386 - mse: 12.8386 - val_loss: 24.0359 - val_mse: 24.0359\n",
      "Epoch 46/50\n",
      "270/270 [==============================] - 0s 215us/sample - loss: 12.5657 - mse: 12.5657 - val_loss: 23.6745 - val_mse: 23.6745\n",
      "Epoch 47/50\n",
      "270/270 [==============================] - 0s 205us/sample - loss: 12.3262 - mse: 12.3262 - val_loss: 23.1574 - val_mse: 23.1574\n",
      "Epoch 48/50\n",
      "270/270 [==============================] - 0s 240us/sample - loss: 12.0710 - mse: 12.0710 - val_loss: 22.8529 - val_mse: 22.8529\n",
      "Epoch 49/50\n",
      "270/270 [==============================] - 0s 209us/sample - loss: 11.8346 - mse: 11.8346 - val_loss: 22.6784 - val_mse: 22.6784\n",
      "Epoch 50/50\n",
      "270/270 [==============================] - 0s 220us/sample - loss: 11.6244 - mse: 11.6244 - val_loss: 22.4169 - val_mse: 22.4169\n"
     ]
    },
    {
     "data": {
      "text/plain": [
       "<tensorflow.python.keras.callbacks.History at 0x7f7db46f2278>"
      ]
     },
     "execution_count": 11,
     "metadata": {},
     "output_type": "execute_result"
    }
   ],
   "source": [
    "wandb.init(project=\"boston\", entity=\"lambda-ds7\")\n",
    "\n",
    "X = x_train\n",
    "y = y_train\n",
    "\n",
    "# Important Hyperparameters\n",
    "inputs = X.shape[1]\n",
    "wandb.config.epochs = 50\n",
    "wandb.config.batch_size = 10\n",
    "\n",
    "# Create Model\n",
    "model = Sequential()\n",
    "model.add(Dense(64, activation='relu', input_shape=(inputs,)))\n",
    "model.add(Dense(64, activation='relu'))\n",
    "model.add(Dense(1))\n",
    "# Compile Model\n",
    "model.compile(optimizer='adam', loss='mse', metrics=['mse'])\n",
    "\n",
    "# Fit Model\n",
    "\n",
    "model.fit(X, y, \n",
    "          validation_split=0.33, \n",
    "          epochs=wandb.config.epochs, \n",
    "          batch_size=wandb.config.epochs, \n",
    "          callbacks=[WandbCallback()]\n",
    "         )"
   ]
  },
  {
   "cell_type": "markdown",
   "metadata": {},
   "source": [
    "## Challenge\n",
    "\n",
    "You will be expected to use Weights & Biases to try to tune your model during your module assignment today. "
   ]
  },
  {
   "cell_type": "markdown",
   "metadata": {},
   "source": [
    "# Hyperparameters with RandomSearchCV (Learn)"
   ]
  },
  {
   "cell_type": "code",
   "execution_count": 12,
   "metadata": {},
   "outputs": [],
   "source": [
    "sweep_config = {\n",
    "    'method': 'random',\n",
    "    'parameters': {\n",
    "        'learning_rate': {'distribution': 'normal'},\n",
    "        'epochs': {'distribution': 'uniform',\n",
    "                    'min': 100,\n",
    "                    'max': 1000},\n",
    "        'batch_size': {'distribution': 'uniform',\n",
    "            'min': 10,\n",
    "            'max': 400}\n",
    "    }\n",
    "}"
   ]
  },
  {
   "cell_type": "code",
   "execution_count": 13,
   "metadata": {},
   "outputs": [
    {
     "name": "stdout",
     "output_type": "stream",
     "text": [
      "Create sweep with ID: qaoj5h91\n",
      "Sweep URL: https://app.wandb.ai/lambda-ds7/boston/sweeps/qaoj5h91\n"
     ]
    }
   ],
   "source": [
    "sweep_id = wandb.sweep(sweep_config)"
   ]
  },
  {
   "cell_type": "code",
   "execution_count": 14,
   "metadata": {},
   "outputs": [],
   "source": [
    "import wandb\n",
    "from wandb.keras import WandbCallback\n",
    "#Initializes and Experiment\n",
    "\n",
    "from tensorflow.keras.optimizers import Adam\n",
    "\n",
    "# Important Hyperparameters\n",
    "X =  x_train\n",
    "y =  y_train\n",
    "\n",
    "inputs = X.shape[1]\n",
    "\n",
    "def train():\n",
    "    \n",
    "    wandb.init(project=\"boston\", entity=\"lambda-ds7\") \n",
    "    \n",
    "    config = wandb.config\n",
    "\n",
    "    # Create Model\n",
    "    model = Sequential()\n",
    "    model.add(Dense(64, activation='relu', input_shape=(inputs,)))\n",
    "    model.add(Dense(64, activation='relu'))\n",
    "    model.add(Dense(64, activation='relu'))\n",
    "    model.add(Dense(1))\n",
    "\n",
    "    # Optimizer \n",
    "    adam = Adam(learning_rate=config.learning_rate)\n",
    "\n",
    "    # Compile Model\n",
    "    model.compile(optimizer=adam, loss='mse', metrics=['mse', 'mae'])\n",
    "\n",
    "    # Fit Model\n",
    "    model.fit(X, y, \n",
    "              validation_split=0.33, \n",
    "              epochs=config.epochs, \n",
    "              batch_size=config.batch_size, \n",
    "              callbacks=[WandbCallback()]\n",
    "             )"
   ]
  },
  {
   "cell_type": "code",
   "execution_count": null,
   "metadata": {},
   "outputs": [
    {
     "name": "stdout",
     "output_type": "stream",
     "text": [
      "wandb: Agent Starting Run: 3duni61k with config:\n",
      "\tbatch_size: 120.09170582129408\n",
      "\tepochs: 228.72900818856442\n",
      "\tlearning_rate: 1.5117691615736912\n",
      "wandb: Agent Started Run: 3duni61k\n"
     ]
    },
    {
     "data": {
      "text/html": [
       "\n",
       "                Logging results to <a href=\"https://wandb.com\" target=\"_blank\">Weights & Biases</a> <a href=\"https://docs.wandb.com/integrations/jupyter.html\" target=\"_blank\">(Documentation)</a>.<br/>\n",
       "                Project page: <a href=\"https://app.wandb.ai/lambda-ds7/boston\" target=\"_blank\">https://app.wandb.ai/lambda-ds7/boston</a><br/>\n",
       "                Run page: <a href=\"https://app.wandb.ai/lambda-ds7/boston/runs/lp4bbhdg\" target=\"_blank\">https://app.wandb.ai/lambda-ds7/boston/runs/lp4bbhdg</a><br/>\n",
       "            "
      ],
      "text/plain": [
       "<IPython.core.display.HTML object>"
      ]
     },
     "metadata": {},
     "output_type": "display_data"
    },
    {
     "name": "stderr",
     "output_type": "stream",
     "text": [
      "Process Process-1:\n",
      "Traceback (most recent call last):\n",
      "  File \"/usr/lib/python3.6/multiprocessing/process.py\", line 258, in _bootstrap\n",
      "    self.run()\n",
      "  File \"/usr/lib/python3.6/multiprocessing/process.py\", line 93, in run\n",
      "    self._target(*self._args, **self._kwargs)\n",
      "  File \"/usr/local/lib/python3.6/dist-packages/wandb/wandb_agent.py\", line 62, in _start\n",
      "    function()\n",
      "  File \"<ipython-input-14-23dfe667f67c>\", line 27, in train\n",
      "    adam = Adam(learning_rate=config.learning_rate)\n",
      "  File \"/usr/local/lib/python3.6/dist-packages/wandb/wandb_config.py\", line 212, in __getattr__\n",
      "    return self.__getitem__(key)\n",
      "  File \"/usr/local/lib/python3.6/dist-packages/wandb/wandb_config.py\", line 202, in __getitem__\n",
      "    return self._items[key]\n",
      "KeyError: 'learning_rate'\n"
     ]
    }
   ],
   "source": [
    "wandb.agent(sweep_id, function=train)"
   ]
  },
  {
   "cell_type": "markdown",
   "metadata": {},
   "source": [
    "## Overview\n",
    "\n",
    "Basically `GridSearchCV` takes forever. You'll want to adopt a slightly more sophiscated strategy."
   ]
  },
  {
   "cell_type": "markdown",
   "metadata": {},
   "source": [
    "## Follow Along"
   ]
  },
  {
   "cell_type": "code",
   "execution_count": null,
   "metadata": {},
   "outputs": [],
   "source": [
    "# Optional If we Get Here"
   ]
  },
  {
   "cell_type": "markdown",
   "metadata": {},
   "source": [
    "## Challenge\n",
    "\n",
    "Try to apply RandomSearchCV to your module project today. "
   ]
  },
  {
   "cell_type": "markdown",
   "metadata": {},
   "source": [
    "# Review\n",
    "* <a href=\"#p1\">Part 1</a>: Describe the major hyperparemeters to tune\n",
    "    - Activation Functions\n",
    "    - Optimizer\n",
    "    - Number of Layers\n",
    "    - Number of Neurons\n",
    "    - Batch Size\n",
    "    - Dropout Regulaization\n",
    "    - Learning Rate\n",
    "    - Number of Epochs\n",
    "    - and many more\n",
    "* <a href=\"#p2\">Part 2</a>: Implement an experiment tracking framework\n",
    "    - Weights & Biases\n",
    "    - Comet.ml\n",
    "    - By Hand / GridSearch\n",
    "* <a href=\"#p3\">Part 3</a>: Search the hyperparameter space using RandomSearch\n",
    "    - Sklearn still useful (haha)\n",
    "    - Integration with Wieghts & Biases\n",
    "* <a href=\"#p4\">Part 4</a>: Discuss emerging hyperparameter tuning strategies\n",
    "    - Bayesian Optimization\n",
    "    - Hyperopt\n",
    "    - Genetic Evolution"
   ]
  },
  {
   "cell_type": "markdown",
   "metadata": {},
   "source": [
    "# Sources"
   ]
  },
  {
   "cell_type": "markdown",
   "metadata": {},
   "source": [
    "## Additional Reading\n",
    "- https://machinelearningmastery.com/grid-search-hyperparameters-deep-learning-models-python-keras/\n",
    "- https://blog.floydhub.com/guide-to-hyperparameters-search-for-deep-learning-models/\n",
    "- https://machinelearningmastery.com/dropout-regularization-deep-learning-models-keras/\n",
    "- https://machinelearningmastery.com/introduction-to-weight-constraints-to-reduce-generalization-error-in-deep-learning/\n",
    "- https://machinelearningmastery.com/how-to-configure-the-number-of-layers-and-nodes-in-a-neural-network/"
   ]
  }
 ],
 "metadata": {
  "kernelspec": {
   "display_name": "Python 3",
   "language": "python",
   "name": "python3"
  },
  "language_info": {
   "codemirror_mode": {
    "name": "ipython",
    "version": 3
   },
   "file_extension": ".py",
   "mimetype": "text/x-python",
   "name": "python",
   "nbconvert_exporter": "python",
   "pygments_lexer": "ipython3",
   "version": "3.6.8"
  }
 },
 "nbformat": 4,
 "nbformat_minor": 4
}
